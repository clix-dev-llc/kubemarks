{
 "cells": [
  {
   "cell_type": "code",
   "execution_count": 9,
   "metadata": {
    "pycharm": {
     "is_executing": false,
     "name": "#%%\n"
    }
   },
   "outputs": [],
   "source": [
    "import pickle\n",
    "\n",
    "from prometheus_client import CollectorRegistry, Summary, Info\n",
    "from prometheus_client.exposition import write_to_textfile\n",
    "\n",
    "def toSnakeCase(string):\n",
    "  return string.replace(\" \", \"_\")\n",
    "\n",
    "def PublishSamples(samples, registry):\n",
    "    \n",
    "  samples = list(samples)\n",
    "  \n",
    "  # Metrics\n",
    "  metric_summaries = dict()  # metric key to Summary\n",
    "  metric_keys = set(toSnakeCase(sample['metric']) for sample in samples)  # all metric keys in snake case\n",
    "  for metric_key in metric_keys:\n",
    "      metric_summaries[metric_key] = Summary(name=toSnakeCase(metric_key),\n",
    "                                             documentation=metric_key + ' values',\n",
    "                                             labelnames=['test', 'unit'],\n",
    "                                             registry=registry)\n",
    "\n",
    "  # Going through samples\n",
    "  for sample in samples:\n",
    "      \n",
    "    # Metric value\n",
    "    metric_summaries[toSnakeCase(sample['metric'])]\\\n",
    "        .labels(test=sample['test'], unit=sample['unit'])\\\n",
    "        .observe(sample['value'])\n",
    "    \n",
    "    # Writing to file\n",
    "    write_to_textfile('results.prom', registry)\n",
    "\n",
    "with open('results.pkl', 'rb') as fp:\n",
    "    registry = CollectorRegistry()\n",
    "    # metadata = Info('distributed_k8s', 'Samples\\' metadata', registry=registry)\n",
    "    PublishSamples(pickle.load(fp), registry)"
   ]
  }
 ],
 "metadata": {
  "kernelspec": {
   "display_name": "Python 3",
   "language": "python",
   "name": "python3"
  },
  "language_info": {
   "codemirror_mode": {
    "name": "ipython",
    "version": 3
   },
   "file_extension": ".py",
   "mimetype": "text/x-python",
   "name": "python",
   "nbconvert_exporter": "python",
   "pygments_lexer": "ipython3",
   "version": "3.7.3"
  },
  "pycharm": {
   "stem_cell": {
    "cell_type": "raw",
    "source": [],
    "metadata": {
     "collapsed": false
    }
   }
  }
 },
 "nbformat": 4,
 "nbformat_minor": 1
}